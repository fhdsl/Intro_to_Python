{
  "cells": [
    {
      "cell_type": "raw",
      "metadata": {},
      "source": [
        "---\n",
        "title: \"Week 1\"\n",
        "format: revealjs\n",
        "editor: visual\n",
        "---"
      ],
      "id": "a9602686"
    },
    {
      "cell_type": "markdown",
      "metadata": {},
      "source": [
        "## Quarto\n",
        "\n",
        "Quarto enables you to weave together content and executable code into a finished presentation. To learn more about Quarto presentations see <https://quarto.org/docs/presentations/>.\n",
        "\n",
        "## Bullets\n",
        "\n",
        "When you click the **Render** button a document will be generated that includes:\n",
        "\n",
        "-   Content authored with markdown\n",
        "-   Output from executable code\n",
        "\n",
        "## Code\n",
        "\n",
        "When you click the **Render** button a presentation will be generated that includes both content and the output of embedded code. You can embed code like this:\n"
      ],
      "id": "bfb19035"
    },
    {
      "cell_type": "code",
      "metadata": {},
      "source": [
        "1 + 1\n",
        "blob = [2, 3, \"hello\"]\n",
        "print(hello)"
      ],
      "id": "45f3af8f",
      "execution_count": null,
      "outputs": []
    }
  ],
  "metadata": {
    "kernelspec": {
      "display_name": "Python 3",
      "language": "python",
      "name": "python3"
    }
  },
  "nbformat": 4,
  "nbformat_minor": 5
}